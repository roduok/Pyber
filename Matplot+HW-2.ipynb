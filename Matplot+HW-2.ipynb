{
 "cells": [
  {
   "cell_type": "code",
   "execution_count": 89,
   "metadata": {
    "collapsed": true
   },
   "outputs": [],
   "source": [
    "#Dependencies\n",
    "import matplotlib.pyplot as plt\n",
    "import numpy as np\n",
    "import pandas as pd\n",
    "from scipy.stats import sem"
   ]
  },
  {
   "cell_type": "code",
   "execution_count": 90,
   "metadata": {},
   "outputs": [
    {
     "data": {
      "text/html": [
       "<div>\n",
       "<style>\n",
       "    .dataframe thead tr:only-child th {\n",
       "        text-align: right;\n",
       "    }\n",
       "\n",
       "    .dataframe thead th {\n",
       "        text-align: left;\n",
       "    }\n",
       "\n",
       "    .dataframe tbody tr th {\n",
       "        vertical-align: top;\n",
       "    }\n",
       "</style>\n",
       "<table border=\"1\" class=\"dataframe\">\n",
       "  <thead>\n",
       "    <tr style=\"text-align: right;\">\n",
       "      <th></th>\n",
       "      <th>city</th>\n",
       "      <th>driver_count</th>\n",
       "      <th>type</th>\n",
       "    </tr>\n",
       "  </thead>\n",
       "  <tbody>\n",
       "    <tr>\n",
       "      <th>0</th>\n",
       "      <td>Kelseyland</td>\n",
       "      <td>63</td>\n",
       "      <td>Urban</td>\n",
       "    </tr>\n",
       "    <tr>\n",
       "      <th>1</th>\n",
       "      <td>Nguyenbury</td>\n",
       "      <td>8</td>\n",
       "      <td>Urban</td>\n",
       "    </tr>\n",
       "    <tr>\n",
       "      <th>2</th>\n",
       "      <td>East Douglas</td>\n",
       "      <td>12</td>\n",
       "      <td>Urban</td>\n",
       "    </tr>\n",
       "    <tr>\n",
       "      <th>3</th>\n",
       "      <td>West Dawnfurt</td>\n",
       "      <td>34</td>\n",
       "      <td>Urban</td>\n",
       "    </tr>\n",
       "    <tr>\n",
       "      <th>4</th>\n",
       "      <td>Rodriguezburgh</td>\n",
       "      <td>52</td>\n",
       "      <td>Urban</td>\n",
       "    </tr>\n",
       "  </tbody>\n",
       "</table>\n",
       "</div>"
      ],
      "text/plain": [
       "             city  driver_count   type\n",
       "0      Kelseyland            63  Urban\n",
       "1      Nguyenbury             8  Urban\n",
       "2    East Douglas            12  Urban\n",
       "3   West Dawnfurt            34  Urban\n",
       "4  Rodriguezburgh            52  Urban"
      ]
     },
     "execution_count": 90,
     "metadata": {},
     "output_type": "execute_result"
    }
   ],
   "source": [
    "#Load CSVs\n",
    "city_df = pd.read_csv(\"raw_data/city_data.csv\")\n",
    "ride_df = pd.read_csv(\"raw_data/ride_data.csv\")\n",
    "city_df.head()\n"
   ]
  },
  {
   "cell_type": "code",
   "execution_count": 91,
   "metadata": {},
   "outputs": [
    {
     "data": {
      "text/html": [
       "<div>\n",
       "<style>\n",
       "    .dataframe thead tr:only-child th {\n",
       "        text-align: right;\n",
       "    }\n",
       "\n",
       "    .dataframe thead th {\n",
       "        text-align: left;\n",
       "    }\n",
       "\n",
       "    .dataframe tbody tr th {\n",
       "        vertical-align: top;\n",
       "    }\n",
       "</style>\n",
       "<table border=\"1\" class=\"dataframe\">\n",
       "  <thead>\n",
       "    <tr style=\"text-align: right;\">\n",
       "      <th></th>\n",
       "      <th>city</th>\n",
       "      <th>driver_count</th>\n",
       "      <th>type</th>\n",
       "      <th>date</th>\n",
       "      <th>fare</th>\n",
       "      <th>ride_id</th>\n",
       "    </tr>\n",
       "  </thead>\n",
       "  <tbody>\n",
       "    <tr>\n",
       "      <th>0</th>\n",
       "      <td>Kelseyland</td>\n",
       "      <td>63</td>\n",
       "      <td>Urban</td>\n",
       "      <td>2016-08-19 04:27:52</td>\n",
       "      <td>5.51</td>\n",
       "      <td>6246006544795</td>\n",
       "    </tr>\n",
       "    <tr>\n",
       "      <th>1</th>\n",
       "      <td>Kelseyland</td>\n",
       "      <td>63</td>\n",
       "      <td>Urban</td>\n",
       "      <td>2016-04-17 06:59:50</td>\n",
       "      <td>5.54</td>\n",
       "      <td>7466473222333</td>\n",
       "    </tr>\n",
       "    <tr>\n",
       "      <th>2</th>\n",
       "      <td>Kelseyland</td>\n",
       "      <td>63</td>\n",
       "      <td>Urban</td>\n",
       "      <td>2016-05-04 15:06:07</td>\n",
       "      <td>30.54</td>\n",
       "      <td>2140501382736</td>\n",
       "    </tr>\n",
       "    <tr>\n",
       "      <th>3</th>\n",
       "      <td>Kelseyland</td>\n",
       "      <td>63</td>\n",
       "      <td>Urban</td>\n",
       "      <td>2016-01-25 20:44:56</td>\n",
       "      <td>12.08</td>\n",
       "      <td>1896987891309</td>\n",
       "    </tr>\n",
       "    <tr>\n",
       "      <th>4</th>\n",
       "      <td>Kelseyland</td>\n",
       "      <td>63</td>\n",
       "      <td>Urban</td>\n",
       "      <td>2016-08-09 18:19:47</td>\n",
       "      <td>17.91</td>\n",
       "      <td>8784212854829</td>\n",
       "    </tr>\n",
       "  </tbody>\n",
       "</table>\n",
       "</div>"
      ],
      "text/plain": [
       "         city  driver_count   type                 date   fare        ride_id\n",
       "0  Kelseyland            63  Urban  2016-08-19 04:27:52   5.51  6246006544795\n",
       "1  Kelseyland            63  Urban  2016-04-17 06:59:50   5.54  7466473222333\n",
       "2  Kelseyland            63  Urban  2016-05-04 15:06:07  30.54  2140501382736\n",
       "3  Kelseyland            63  Urban  2016-01-25 20:44:56  12.08  1896987891309\n",
       "4  Kelseyland            63  Urban  2016-08-09 18:19:47  17.91  8784212854829"
      ]
     },
     "execution_count": 91,
     "metadata": {},
     "output_type": "execute_result"
    }
   ],
   "source": [
    "#Merge CSVs\n",
    "merged_csv = pd.merge(city_df, ride_df, on=\"city\")\n",
    "merged_csv.head()"
   ]
  },
  {
   "cell_type": "code",
   "execution_count": 149,
   "metadata": {},
   "outputs": [
    {
     "data": {
      "text/html": [
       "<div>\n",
       "<style>\n",
       "    .dataframe thead tr:only-child th {\n",
       "        text-align: right;\n",
       "    }\n",
       "\n",
       "    .dataframe thead th {\n",
       "        text-align: left;\n",
       "    }\n",
       "\n",
       "    .dataframe tbody tr th {\n",
       "        vertical-align: top;\n",
       "    }\n",
       "</style>\n",
       "<table border=\"1\" class=\"dataframe\">\n",
       "  <thead>\n",
       "    <tr style=\"text-align: right;\">\n",
       "      <th></th>\n",
       "      <th>city</th>\n",
       "      <th>driver_count</th>\n",
       "      <th>type</th>\n",
       "      <th>date</th>\n",
       "      <th>fare</th>\n",
       "      <th>ride_id</th>\n",
       "    </tr>\n",
       "  </thead>\n",
       "  <tbody>\n",
       "    <tr>\n",
       "      <th>2282</th>\n",
       "      <td>South Elizabethmouth</td>\n",
       "      <td>3</td>\n",
       "      <td>Rural</td>\n",
       "      <td>2016-04-03 11:13:07</td>\n",
       "      <td>22.79</td>\n",
       "      <td>8193837300497</td>\n",
       "    </tr>\n",
       "    <tr>\n",
       "      <th>2283</th>\n",
       "      <td>South Elizabethmouth</td>\n",
       "      <td>3</td>\n",
       "      <td>Rural</td>\n",
       "      <td>2016-03-11 12:27:01</td>\n",
       "      <td>26.72</td>\n",
       "      <td>4943246873754</td>\n",
       "    </tr>\n",
       "    <tr>\n",
       "      <th>2284</th>\n",
       "      <td>South Elizabethmouth</td>\n",
       "      <td>3</td>\n",
       "      <td>Rural</td>\n",
       "      <td>2016-11-23 07:47:18</td>\n",
       "      <td>46.39</td>\n",
       "      <td>1939838068038</td>\n",
       "    </tr>\n",
       "    <tr>\n",
       "      <th>2285</th>\n",
       "      <td>South Elizabethmouth</td>\n",
       "      <td>3</td>\n",
       "      <td>Rural</td>\n",
       "      <td>2016-07-19 09:35:59</td>\n",
       "      <td>31.09</td>\n",
       "      <td>2959749591417</td>\n",
       "    </tr>\n",
       "    <tr>\n",
       "      <th>2286</th>\n",
       "      <td>South Elizabethmouth</td>\n",
       "      <td>3</td>\n",
       "      <td>Rural</td>\n",
       "      <td>2016-04-21 10:20:09</td>\n",
       "      <td>16.50</td>\n",
       "      <td>5702608059064</td>\n",
       "    </tr>\n",
       "  </tbody>\n",
       "</table>\n",
       "</div>"
      ],
      "text/plain": [
       "                      city  driver_count   type                 date   fare  \\\n",
       "2282  South Elizabethmouth             3  Rural  2016-04-03 11:13:07  22.79   \n",
       "2283  South Elizabethmouth             3  Rural  2016-03-11 12:27:01  26.72   \n",
       "2284  South Elizabethmouth             3  Rural  2016-11-23 07:47:18  46.39   \n",
       "2285  South Elizabethmouth             3  Rural  2016-07-19 09:35:59  31.09   \n",
       "2286  South Elizabethmouth             3  Rural  2016-04-21 10:20:09  16.50   \n",
       "\n",
       "            ride_id  \n",
       "2282  8193837300497  \n",
       "2283  4943246873754  \n",
       "2284  1939838068038  \n",
       "2285  2959749591417  \n",
       "2286  5702608059064  "
      ]
     },
     "execution_count": 149,
     "metadata": {},
     "output_type": "execute_result"
    }
   ],
   "source": [
    "#Group by City Type\n",
    "urban_df=merged_csv.loc[merged_csv['type']== 'Urban']\n",
    "suburban_df=merged_csv.loc[merged_csv['type']== 'Suburban']\n",
    "rural_df=merged_csv.loc[merged_csv['type']== 'Rural']\n",
    "\n",
    "rural_df.head()"
   ]
  },
  {
   "cell_type": "code",
   "execution_count": 93,
   "metadata": {},
   "outputs": [
    {
     "data": {
      "text/plain": [
       "4255.09"
      ]
     },
     "execution_count": 93,
     "metadata": {},
     "output_type": "execute_result"
    }
   ],
   "source": [
    "#Get total Fare sum by city type \n",
    "urban_fare_sum = urban_df['fare'].sum()\n",
    "suburban_fare_sum = suburban_df['fare'].sum()\n",
    "rural_fare_sum = rural_df['fare'].sum()\n",
    "rural_fare_sum"
   ]
  },
  {
   "cell_type": "code",
   "execution_count": 107,
   "metadata": {},
   "outputs": [
    {
     "data": {
      "image/png": "[encoded data removed]",
      "text/plain": [
       "<matplotlib.figure.Figure at 0x1a179fb668>"
      ]
     },
     "metadata": {},
     "output_type": "display_data"
    }
   ],
   "source": [
    "#Create Pie Chart for % of total Fares by city type \n",
    "city_type = [\"Urban\", \"Suburban\",\"Rural\"]\n",
    "fare_sums = [urban_fare_sum, suburban_fare_sum, rural_fare_sum]\n",
    "colors = [\"lightcoral\",\"lightskyblue\",\"gold\"]\n",
    "explode = (0.1,0,0)\n",
    "plt.pie(fare_sums, explode=explode, labels=city_type, colors=colors,\n",
    "        autopct=\"%1.1f%%\", shadow=True, startangle=140)\n",
    "plt.axis(\"equal\")\n",
    "plt.title(\"% of Total Fares by City Type\")\n",
    "\n",
    "plt.show()"
   ]
  },
  {
   "cell_type": "code",
   "execution_count": 123,
   "metadata": {},
   "outputs": [
    {
     "data": {
      "text/plain": [
       "125"
      ]
     },
     "execution_count": 123,
     "metadata": {},
     "output_type": "execute_result"
    }
   ],
   "source": [
    "#Get Total Rides by city type\n",
    "urban_ride_sum = urban_df['ride_id'].count()\n",
    "suburban_ride_sum = suburban_df['ride_id'].count()\n",
    "rural_ride_sum = rural_df['ride_id'].count()\n",
    "rural_ride_sum"
   ]
  },
  {
   "cell_type": "code",
   "execution_count": 114,
   "metadata": {},
   "outputs": [
    {
     "data": {
      "image/png": "[encoded data removed]",
      "text/plain": [
       "<matplotlib.figure.Figure at 0x1a17acd2e8>"
      ]
     },
     "metadata": {},
     "output_type": "display_data"
    }
   ],
   "source": [
    "#Create Pie Chart for % of total rides by city type \n",
    "city_type = [\"Urban\", \"Suburban\",\"Rural\"]\n",
    "fare_sums = [urban_ride_sum, suburban_ride_sum, rural_ride_sum]\n",
    "colors = [\"lightcoral\",\"lightskyblue\",\"gold\"]\n",
    "explode = (0.1,0,0)\n",
    "plt.pie(fare_sums, explode=explode, labels=city_type, colors=colors,\n",
    "        autopct=\"%1.1f%%\", shadow=True, startangle=140)\n",
    "plt.axis(\"equal\")\n",
    "plt.title(\"% of Total Rides by City Type\")\n",
    "\n",
    "plt.show()"
   ]
  },
  {
   "cell_type": "code",
   "execution_count": 148,
   "metadata": {},
   "outputs": [
    {
     "data": {
      "text/plain": [
       "104"
      ]
     },
     "execution_count": 148,
     "metadata": {},
     "output_type": "execute_result"
    }
   ],
   "source": [
    "#Get Total Driver Count by city type\n",
    "\n",
    "urban_driver= urban_df.groupby('city').max()['driver_count']\n",
    "suburban_driver= suburban_df.groupby('city').max()['driver_count']\n",
    "rural_driver= rural_df.groupby('city').max()['driver_count']\n",
    "\n",
    "urban_driver_total=urban_driver.sum()\n",
    "suburban_driver_total=suburban_driver.sum()\n",
    "rural_driver_total=rural_driver.sum()\n",
    "\n",
    "rural_driver_total"
   ]
  },
  {
   "cell_type": "code",
   "execution_count": 151,
   "metadata": {},
   "outputs": [
    {
     "data": {
      "image/png": "[encoded data removed]",
      "text/plain": [
       "<matplotlib.figure.Figure at 0x1a17bd1390>"
      ]
     },
     "metadata": {},
     "output_type": "display_data"
    }
   ],
   "source": [
    "#Create Pie Chart for % of total drivers by city type \n",
    "#Create Pie Chart for % of total rides by city type \n",
    "city_type = [\"Urban\", \"Suburban\",\"Rural\"]\n",
    "fare_sums = [urban_driver_total, suburban_driver_total, rural_driver_total]\n",
    "colors = [\"lightcoral\",\"lightskyblue\",\"gold\"]\n",
    "explode = (0.1,0,0)\n",
    "plt.pie(fare_sums, explode=explode, labels=city_type, colors=colors,\n",
    "        autopct=\"%1.1f%%\", shadow=True, startangle=140)\n",
    "plt.axis(\"equal\")\n",
    "plt.title(\"% of Total Drivers by City Type\")\n",
    "\n",
    "plt.show()"
   ]
  },
  {
   "cell_type": "code",
   "execution_count": 95,
   "metadata": {},
   "outputs": [
    {
     "data": {
      "text/html": [
       "<div>\n",
       "<style>\n",
       "    .dataframe thead tr:only-child th {\n",
       "        text-align: right;\n",
       "    }\n",
       "\n",
       "    .dataframe thead th {\n",
       "        text-align: left;\n",
       "    }\n",
       "\n",
       "    .dataframe tbody tr th {\n",
       "        vertical-align: top;\n",
       "    }\n",
       "</style>\n",
       "<table border=\"1\" class=\"dataframe\">\n",
       "  <thead>\n",
       "    <tr style=\"text-align: right;\">\n",
       "      <th></th>\n",
       "      <th>driver_count</th>\n",
       "      <th>fare</th>\n",
       "      <th>ride_id</th>\n",
       "    </tr>\n",
       "    <tr>\n",
       "      <th>city</th>\n",
       "      <th></th>\n",
       "      <th></th>\n",
       "      <th></th>\n",
       "    </tr>\n",
       "  </thead>\n",
       "  <tbody>\n",
       "    <tr>\n",
       "      <th>Alvarezhaven</th>\n",
       "      <td>21.0</td>\n",
       "      <td>23.928710</td>\n",
       "      <td>5.351586e+12</td>\n",
       "    </tr>\n",
       "    <tr>\n",
       "      <th>Alyssaberg</th>\n",
       "      <td>67.0</td>\n",
       "      <td>20.609615</td>\n",
       "      <td>3.536678e+12</td>\n",
       "    </tr>\n",
       "    <tr>\n",
       "      <th>Antoniomouth</th>\n",
       "      <td>21.0</td>\n",
       "      <td>23.625000</td>\n",
       "      <td>5.086800e+12</td>\n",
       "    </tr>\n",
       "    <tr>\n",
       "      <th>Aprilchester</th>\n",
       "      <td>49.0</td>\n",
       "      <td>21.981579</td>\n",
       "      <td>4.574788e+12</td>\n",
       "    </tr>\n",
       "    <tr>\n",
       "      <th>Arnoldview</th>\n",
       "      <td>41.0</td>\n",
       "      <td>25.106452</td>\n",
       "      <td>5.021952e+12</td>\n",
       "    </tr>\n",
       "    <tr>\n",
       "      <th>Carrollfort</th>\n",
       "      <td>55.0</td>\n",
       "      <td>25.395517</td>\n",
       "      <td>4.759008e+12</td>\n",
       "    </tr>\n",
       "    <tr>\n",
       "      <th>Davidtown</th>\n",
       "      <td>73.0</td>\n",
       "      <td>22.978095</td>\n",
       "      <td>5.850005e+12</td>\n",
       "    </tr>\n",
       "    <tr>\n",
       "      <th>Davistown</th>\n",
       "      <td>25.0</td>\n",
       "      <td>21.497200</td>\n",
       "      <td>4.361977e+12</td>\n",
       "    </tr>\n",
       "    <tr>\n",
       "      <th>East Douglas</th>\n",
       "      <td>12.0</td>\n",
       "      <td>26.169091</td>\n",
       "      <td>4.732315e+12</td>\n",
       "    </tr>\n",
       "    <tr>\n",
       "      <th>East Erin</th>\n",
       "      <td>43.0</td>\n",
       "      <td>24.478214</td>\n",
       "      <td>5.226259e+12</td>\n",
       "    </tr>\n",
       "  </tbody>\n",
       "</table>\n",
       "</div>"
      ],
      "text/plain": [
       "              driver_count       fare       ride_id\n",
       "city                                               \n",
       "Alvarezhaven          21.0  23.928710  5.351586e+12\n",
       "Alyssaberg            67.0  20.609615  3.536678e+12\n",
       "Antoniomouth          21.0  23.625000  5.086800e+12\n",
       "Aprilchester          49.0  21.981579  4.574788e+12\n",
       "Arnoldview            41.0  25.106452  5.021952e+12\n",
       "Carrollfort           55.0  25.395517  4.759008e+12\n",
       "Davidtown             73.0  22.978095  5.850005e+12\n",
       "Davistown             25.0  21.497200  4.361977e+12\n",
       "East Douglas          12.0  26.169091  4.732315e+12\n",
       "East Erin             43.0  24.478214  5.226259e+12"
      ]
     },
     "execution_count": 95,
     "metadata": {},
     "output_type": "execute_result"
    }
   ],
   "source": [
    "# Using GroupBy in order to separate the data into fields according to \"type\" values\n",
    "urban_city_df = urban_df.groupby(['city'])\n",
    "suburban_city_df = suburban_df.groupby(['city'])\n",
    "rural_city_df = suburban_df.groupby(['city'])\n",
    "urban_city_df.mean().head(10)"
   ]
  },
  {
   "cell_type": "code",
   "execution_count": 102,
   "metadata": {},
   "outputs": [
    {
     "data": {
      "text/plain": [
       "city\n",
       "Anitamouth       9\n",
       "Campbellport    15\n",
       "Carrollbury     10\n",
       "Clarkstad       12\n",
       "Conwaymouth     11\n",
       "Name: ride_id, dtype: int64"
      ]
     },
     "execution_count": 102,
     "metadata": {},
     "output_type": "execute_result"
    }
   ],
   "source": [
    "#Get Rider count by city Type\n",
    "urban_rider_count= urban_df.groupby('city').count()['ride_id']\n",
    "suburban_rider_count= suburban_df.groupby('city').count()['ride_id']\n",
    "rural_rider_count= rural_df.groupby('city').count()['ride_id']\n",
    "suburban_rider_count.head()"
   ]
  },
  {
   "cell_type": "code",
   "execution_count": 106,
   "metadata": {},
   "outputs": [
    {
     "data": {
      "text/plain": [
       "city\n",
       "Anitamouth      37.315556\n",
       "Campbellport    33.711333\n",
       "Carrollbury     36.606000\n",
       "Clarkstad       31.051667\n",
       "Conwaymouth     34.591818\n",
       "Name: fare, dtype: float64"
      ]
     },
     "execution_count": 106,
     "metadata": {},
     "output_type": "execute_result"
    }
   ],
   "source": [
    "#Get Average Fare by city type \n",
    "urban_avg_fare= urban_df.groupby('city').mean()['fare']\n",
    "suburban_avg_fare=suburban_df.groupby('city').mean()['fare']\n",
    "rural_avg_fare=rural_df.groupby('city').mean()['fare']\n",
    "suburban_avg_fare.head()"
   ]
  },
  {
   "cell_type": "code",
   "execution_count": 105,
   "metadata": {},
   "outputs": [
    {
     "data": {
      "text/plain": [
       "city\n",
       "East Leslie        9\n",
       "East Stephen       6\n",
       "East Troybury      3\n",
       "Erikport           3\n",
       "Hernandezshire    10\n",
       "Name: driver_count, dtype: int64"
      ]
     },
     "execution_count": 105,
     "metadata": {},
     "output_type": "execute_result"
    }
   ],
   "source": [
    "#Get Driver Count by city type \n",
    "urban_driver_count= urban_df.groupby('city').max()['driver_count']\n",
    "suburban_driver_count= suburban_df.groupby('city').max()['driver_count']\n",
    "rural_driver_count= rural_df.groupby('city').max()['driver_count']\n",
    "rural_driver_count.head()"
   ]
  },
  {
   "cell_type": "code",
   "execution_count": 188,
   "metadata": {},
   "outputs": [
    {
     "data": {
      "image/png": "[encoded data removed]",
      "text/plain": [
       "<matplotlib.figure.Figure at 0x1a177dfb00>"
      ]
     },
     "metadata": {},
     "output_type": "display_data"
    }
   ],
   "source": [
    "#Plot Bubble Plot\n",
    "x_limit=35\n",
    "y_limit =45\n",
    "plt.scatter(urban_rider_count, urban_avg_fare, marker=\"o\", c =\"lightcoral\", edgecolors=\"black\",\n",
    "            label='Urban',\n",
    "            s=urban_driver_count, alpha=0.75)\n",
    "\n",
    "plt.scatter(suburban_rider_count, suburban_avg_fare, marker=\"o\", c =\"lightskyblue\", edgecolors=\"black\",\n",
    "            label='Subrban',\n",
    "            s=suburban_driver_count, alpha=0.75)\n",
    "\n",
    "plt.scatter(rural_rider_count, rural_avg_fare, marker=\"o\", c =\"gold\", edgecolors=\"black\",\n",
    "            label='Rural',\n",
    "            s=rural_driver_count, alpha=0.75)\n",
    "plt.title(\"Pyber Ride Sharing Data (2016)\")\n",
    "plt.xlabel(\"Total Number of Rides (Per City)\")\n",
    "plt.ylabel(\"Average Fare ($)\")\n",
    "plt.grid()\n",
    "plt.xlim(0, x_limit)\n",
    "plt.ylim(19, y_limit)\n",
    "# Now add the legend with some customizations.\n",
    "legend = plt.legend(loc='best', shadow=True)\n",
    "\n",
    "plt.show()"
   ]
  },
  {
   "cell_type": "code",
   "execution_count": null,
   "metadata": {
    "collapsed": true
   },
   "outputs": [],
   "source": [
    "# My Observations\n",
    "#1. Urban cities had lower fare prices probably because there is more driver density making the prices to be competitive.\n",
    "#2. The larger the driver count per city, the more total number of rides per city, on average. \n",
    "#3. Rural Average fares are about $10 higher the urban avg fares. "
   ]
  },
  {
   "cell_type": "code",
   "execution_count": null,
   "metadata": {
    "collapsed": true
   },
   "outputs": [],
   "source": []
  },
  {
   "cell_type": "code",
   "execution_count": null,
   "metadata": {
    "collapsed": true
   },
   "outputs": [],
   "source": []
  }
 ],
 "metadata": {
  "kernelspec": {
   "display_name": "Python [conda env:PythonData]",
   "language": "python",
   "name": "conda-env-PythonData-py"
  },
  "language_info": {
   "codemirror_mode": {
    "name": "ipython",
    "version": 3
   },
   "file_extension": ".py",
   "mimetype": "text/x-python",
   "name": "python",
   "nbconvert_exporter": "python",
   "pygments_lexer": "ipython3",
   "version": "3.6.3"
  }
 },
 "nbformat": 4,
 "nbformat_minor": 2
}
